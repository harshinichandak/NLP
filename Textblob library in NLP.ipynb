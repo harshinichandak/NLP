{
 "cells": [
  {
   "cell_type": "code",
   "execution_count": 1,
   "id": "c0c25e3b",
   "metadata": {},
   "outputs": [],
   "source": [
    "#pip install textblob"
   ]
  },
  {
   "cell_type": "code",
   "execution_count": 2,
   "id": "b173ea91",
   "metadata": {},
   "outputs": [],
   "source": [
    "import pandas as pd\n",
    "import numpy as np\n",
    "from textblob import TextBlob\n",
    "import nltk"
   ]
  },
  {
   "cell_type": "code",
   "execution_count": 3,
   "id": "b8f9e6fe",
   "metadata": {},
   "outputs": [],
   "source": [
    "# Textblob (it is pretrained library for the sentiment analysis just like vader) )"
   ]
  },
  {
   "cell_type": "code",
   "execution_count": 4,
   "id": "8751e8e7",
   "metadata": {},
   "outputs": [],
   "source": [
    "amz = pd.read_csv(r'D:\\Datasets\\amazonreviews.tsv', sep ='\\t')"
   ]
  },
  {
   "cell_type": "code",
   "execution_count": 5,
   "id": "f451f543",
   "metadata": {},
   "outputs": [
    {
     "data": {
      "text/plain": [
       "Sentiment(polarity=0.9700000000000001, subjectivity=0.6933333333333334)"
      ]
     },
     "execution_count": 5,
     "metadata": {},
     "output_type": "execute_result"
    }
   ],
   "source": [
    "text1 = 'food made at the restaurant was very good. Food was best and delicious'\n",
    "blob1 = TextBlob(text1)  #input\n",
    "blob1.sentiment"
   ]
  },
  {
   "cell_type": "code",
   "execution_count": 6,
   "id": "69e18356",
   "metadata": {},
   "outputs": [
    {
     "data": {
      "text/plain": [
       "Sentiment(polarity=-0.6999999999999998, subjectivity=0.6666666666666666)"
      ]
     },
     "execution_count": 6,
     "metadata": {},
     "output_type": "execute_result"
    }
   ],
   "source": [
    "text2 = 'parcel reecived form vendor wa bad and torn apart'\n",
    "blob1 = TextBlob(text2)\n",
    "blob1.sentiment"
   ]
  },
  {
   "cell_type": "code",
   "execution_count": 7,
   "id": "4b5a9ea7",
   "metadata": {},
   "outputs": [],
   "source": [
    "# polarity (-1 to +1)\n",
    "# where -ve value indicates negative sentiment\n",
    "# where +ve value indicates positive sentiment"
   ]
  },
  {
   "cell_type": "code",
   "execution_count": 8,
   "id": "8e004cd7",
   "metadata": {},
   "outputs": [
    {
     "data": {
      "text/html": [
       "<div>\n",
       "<style scoped>\n",
       "    .dataframe tbody tr th:only-of-type {\n",
       "        vertical-align: middle;\n",
       "    }\n",
       "\n",
       "    .dataframe tbody tr th {\n",
       "        vertical-align: top;\n",
       "    }\n",
       "\n",
       "    .dataframe thead th {\n",
       "        text-align: right;\n",
       "    }\n",
       "</style>\n",
       "<table border=\"1\" class=\"dataframe\">\n",
       "  <thead>\n",
       "    <tr style=\"text-align: right;\">\n",
       "      <th></th>\n",
       "      <th>label</th>\n",
       "      <th>review</th>\n",
       "    </tr>\n",
       "  </thead>\n",
       "  <tbody>\n",
       "    <tr>\n",
       "      <th>0</th>\n",
       "      <td>pos</td>\n",
       "      <td>Stuning even for the non-gamer: This sound tra...</td>\n",
       "    </tr>\n",
       "    <tr>\n",
       "      <th>1</th>\n",
       "      <td>pos</td>\n",
       "      <td>The best soundtrack ever to anything.: I'm rea...</td>\n",
       "    </tr>\n",
       "    <tr>\n",
       "      <th>2</th>\n",
       "      <td>pos</td>\n",
       "      <td>Amazing!: This soundtrack is my favorite music...</td>\n",
       "    </tr>\n",
       "    <tr>\n",
       "      <th>3</th>\n",
       "      <td>pos</td>\n",
       "      <td>Excellent Soundtrack: I truly like this soundt...</td>\n",
       "    </tr>\n",
       "    <tr>\n",
       "      <th>4</th>\n",
       "      <td>pos</td>\n",
       "      <td>Remember, Pull Your Jaw Off The Floor After He...</td>\n",
       "    </tr>\n",
       "  </tbody>\n",
       "</table>\n",
       "</div>"
      ],
      "text/plain": [
       "  label                                             review\n",
       "0   pos  Stuning even for the non-gamer: This sound tra...\n",
       "1   pos  The best soundtrack ever to anything.: I'm rea...\n",
       "2   pos  Amazing!: This soundtrack is my favorite music...\n",
       "3   pos  Excellent Soundtrack: I truly like this soundt...\n",
       "4   pos  Remember, Pull Your Jaw Off The Floor After He..."
      ]
     },
     "execution_count": 8,
     "metadata": {},
     "output_type": "execute_result"
    }
   ],
   "source": [
    "amz.head()"
   ]
  },
  {
   "cell_type": "code",
   "execution_count": 9,
   "id": "473d0999",
   "metadata": {},
   "outputs": [
    {
     "data": {
      "text/plain": [
       "'Stuning even for the non-gamer: This sound track was beautiful! It paints the senery in your mind so well I would recomend it even to people who hate vid. game music! I have played the game Chrono Cross but out of all of the games I have ever played it has the best music! It backs away from crude keyboarding and takes a fresher step with grate guitars and soulful orchestras. It would impress anyone who cares to listen! ^_^'"
      ]
     },
     "execution_count": 9,
     "metadata": {},
     "output_type": "execute_result"
    }
   ],
   "source": [
    "amz.iloc[0,1]"
   ]
  },
  {
   "cell_type": "code",
   "execution_count": 10,
   "id": "4b852e36",
   "metadata": {},
   "outputs": [],
   "source": [
    "empty_list = []\n",
    "for sent in range (0, amz.shape[0]):\n",
    "    blob1 = TextBlob(amz.iloc[sent, 1])\n",
    "    empty_list.append(blob1.sentiment[0])"
   ]
  },
  {
   "cell_type": "code",
   "execution_count": 11,
   "id": "c3de2fbc",
   "metadata": {},
   "outputs": [],
   "source": [
    "amz['Polarity'] = empty_list"
   ]
  },
  {
   "cell_type": "code",
   "execution_count": 12,
   "id": "d4b47549",
   "metadata": {},
   "outputs": [
    {
     "data": {
      "text/plain": [
       "392     0.953674\n",
       "445     0.890000\n",
       "658     0.833333\n",
       "659     0.955000\n",
       "773     0.811111\n",
       "          ...   \n",
       "9402    0.866667\n",
       "9421    0.812500\n",
       "9537    0.866667\n",
       "9712    1.000000\n",
       "9775    1.000000\n",
       "Name: Polarity, Length: 62, dtype: float64"
      ]
     },
     "execution_count": 12,
     "metadata": {},
     "output_type": "execute_result"
    }
   ],
   "source": [
    "amz.Polarity[amz.Polarity > 0.8]"
   ]
  },
  {
   "cell_type": "code",
   "execution_count": 13,
   "id": "aa8a177f",
   "metadata": {},
   "outputs": [],
   "source": [
    "#pip install spacy"
   ]
  },
  {
   "cell_type": "code",
   "execution_count": 14,
   "id": "9784d2f8",
   "metadata": {},
   "outputs": [],
   "source": [
    "import spacy"
   ]
  },
  {
   "cell_type": "code",
   "execution_count": 15,
   "id": "8c6d1c85",
   "metadata": {},
   "outputs": [
    {
     "name": "stdout",
     "output_type": "stream",
     "text": [
      "✔ Download and installation successful\n",
      "You can now load the package via spacy.load('en_core_web_sm')\n"
     ]
    }
   ],
   "source": [
    "#pip install en_core_web_sm-3.1.0-py3-none-any.whl\n",
    "import spacy.cli\n",
    "spacy.cli.download(\"en_core_web_sm\")"
   ]
  },
  {
   "cell_type": "code",
   "execution_count": 16,
   "id": "028e4135",
   "metadata": {},
   "outputs": [],
   "source": [
    "import en_core_web_sm # dictionary"
   ]
  },
  {
   "cell_type": "code",
   "execution_count": 17,
   "id": "2d1dd1b3",
   "metadata": {},
   "outputs": [],
   "source": [
    "lang = spacy.load('en_core_web_sm')"
   ]
  },
  {
   "cell_type": "code",
   "execution_count": 18,
   "id": "e742a15b",
   "metadata": {},
   "outputs": [],
   "source": [
    "doc = lang('Mumbai is a financial capital of India. 1st quarter of the year. Saw GDP of. India decline by 24%')"
   ]
  },
  {
   "cell_type": "code",
   "execution_count": 19,
   "id": "067d2e58",
   "metadata": {},
   "outputs": [
    {
     "data": {
      "text/plain": [
       "spacy.tokens.doc.Doc"
      ]
     },
     "execution_count": 19,
     "metadata": {},
     "output_type": "execute_result"
    }
   ],
   "source": [
    "type(doc)"
   ]
  },
  {
   "cell_type": "code",
   "execution_count": 20,
   "id": "954e1bc5",
   "metadata": {},
   "outputs": [],
   "source": [
    "#for i in doc:\n",
    "#    print(i.text)"
   ]
  },
  {
   "cell_type": "code",
   "execution_count": 21,
   "id": "9640e718",
   "metadata": {},
   "outputs": [
    {
     "name": "stdout",
     "output_type": "stream",
     "text": [
      "Mumbai PROPN\n",
      "is AUX\n",
      "a DET\n",
      "financial ADJ\n",
      "capital NOUN\n",
      "of ADP\n",
      "India PROPN\n",
      ". PUNCT\n",
      "1st NOUN\n",
      "quarter NOUN\n",
      "of ADP\n",
      "the DET\n",
      "year NOUN\n",
      ". PUNCT\n",
      "Saw PROPN\n",
      "GDP NOUN\n",
      "of ADP\n",
      ". PUNCT\n",
      "India PROPN\n",
      "decline NOUN\n",
      "by ADP\n",
      "24 NUM\n",
      "% NOUN\n"
     ]
    }
   ],
   "source": [
    "for i in doc:\n",
    "    print(i.text, i.pos_)  # pos = part of speech"
   ]
  },
  {
   "cell_type": "code",
   "execution_count": 22,
   "id": "1906768d",
   "metadata": {},
   "outputs": [
    {
     "name": "stdout",
     "output_type": "stream",
     "text": [
      "Mumbai is a financial capital of India.\n",
      "1st quarter of the year.\n",
      "Saw GDP of.\n",
      "India decline by 24%\n"
     ]
    }
   ],
   "source": [
    "for sentences in doc.sents:  # .sents is used to print the sentences\n",
    "    print(sentences)"
   ]
  },
  {
   "cell_type": "code",
   "execution_count": 23,
   "id": "b388bd3d",
   "metadata": {},
   "outputs": [],
   "source": [
    "doc3 = lang('mu websote is ww.abc.com and my email is yz@gmail.com. This is just an ex')"
   ]
  },
  {
   "cell_type": "code",
   "execution_count": 24,
   "id": "0eff9f2d",
   "metadata": {},
   "outputs": [],
   "source": [
    "# for token in doc3:\n",
    "#    print(token)"
   ]
  },
  {
   "cell_type": "code",
   "execution_count": 25,
   "id": "21c30f3b",
   "metadata": {},
   "outputs": [
    {
     "name": "stdout",
     "output_type": "stream",
     "text": [
      "mu websote is ww.abc.com and my email is yz@gmail.com.\n",
      "This is just an ex\n"
     ]
    }
   ],
   "source": [
    "for sentences in doc3.sents:\n",
    "    print(sentences)"
   ]
  },
  {
   "cell_type": "code",
   "execution_count": 26,
   "id": "f2e89627",
   "metadata": {},
   "outputs": [
    {
     "name": "stdout",
     "output_type": "stream",
     "text": [
      "fares NOUN\n",
      "are AUX\n",
      "charged VERB\n",
      "at ADP\n",
      "  SPACE\n",
      "20 NUM\n",
      "km NOUN\n",
      ".Total NOUN\n",
      "cost NOUN\n",
      "is AUX\n",
      "$ SYM\n",
      "20 NUM\n",
      ". PUNCT\n",
      "I PRON\n",
      "live VERB\n",
      "in ADP\n",
      "Pune PROPN\n"
     ]
    }
   ],
   "source": [
    "doc4 = lang(\"fares are charged at  20km .Total cost is $20. I live in Pune \")\n",
    "for token in doc4:\n",
    "    print(token.text, token.pos_)"
   ]
  },
  {
   "cell_type": "code",
   "execution_count": 27,
   "id": "2a8730c2",
   "metadata": {},
   "outputs": [
    {
     "name": "stdout",
     "output_type": "stream",
     "text": [
      "Ahmedabad\n",
      "Mumbai\n"
     ]
    }
   ],
   "source": [
    "doc5 = lang(\"Bullet train will run between Ahmedabad and Mumbai\")\n",
    "for token in doc5.ents:  # ents is like name entity\n",
    "    print(token)\n"
   ]
  },
  {
   "cell_type": "code",
   "execution_count": 28,
   "id": "d997fe08",
   "metadata": {},
   "outputs": [
    {
     "name": "stdout",
     "output_type": "stream",
     "text": [
      "Ahmedabad\n",
      "ORG\n",
      "Companies, agencies, institutions, etc.\n",
      "\n",
      "\n",
      "Mumbai\n",
      "GPE\n",
      "Countries, cities, states\n",
      "\n",
      "\n"
     ]
    }
   ],
   "source": [
    "for token in doc5.ents:  # ents is like name entity\n",
    "    print(token)\n",
    "    print(token.label_)\n",
    "    print(str(spacy.explain(token.label_))) # just if you want the explantion of each token\n",
    "    print('\\n')\n"
   ]
  },
  {
   "cell_type": "code",
   "execution_count": 29,
   "id": "34af11b3",
   "metadata": {},
   "outputs": [
    {
     "name": "stdout",
     "output_type": "stream",
     "text": [
      "Shaktiman\n",
      "PERSON\n",
      "People, including fictional\n",
      "\n",
      "\n"
     ]
    }
   ],
   "source": [
    "doc8 = lang('Shaktiman is my favourite character')\n",
    "\n",
    "for token in doc8.ents:  # ents is like name entity\n",
    "    print(token)\n",
    "    print(token.label_)\n",
    "    print(str(spacy.explain(token.label_))) # just if you want the explantion of each token\n",
    "    print('\\n')\n"
   ]
  },
  {
   "cell_type": "code",
   "execution_count": 30,
   "id": "9aa2f6a6",
   "metadata": {},
   "outputs": [],
   "source": [
    "from spacy import displacy"
   ]
  },
  {
   "cell_type": "code",
   "execution_count": 31,
   "id": "22903c70",
   "metadata": {},
   "outputs": [
    {
     "data": {
      "text/html": [
       "<span class=\"tex2jax_ignore\"><div class=\"entities\" style=\"line-height: 2.5; direction: ltr\">\n",
       "<mark class=\"entity\" style=\"background: #bfe1d9; padding: 0.45em 0.6em; margin: 0 0.25em; line-height: 1; border-radius: 0.35em;\">\n",
       "    last year\n",
       "    <span style=\"font-size: 0.8em; font-weight: bold; line-height: 1; border-radius: 0.35em; vertical-align: middle; margin-left: 0.5rem\">DATE</span>\n",
       "</mark>\n",
       " MGHector sold \n",
       "<mark class=\"entity\" style=\"background: #e4e7d2; padding: 0.45em 0.6em; margin: 0 0.25em; line-height: 1; border-radius: 0.35em;\">\n",
       "    15000\n",
       "    <span style=\"font-size: 0.8em; font-weight: bold; line-height: 1; border-radius: 0.35em; vertical-align: middle; margin-left: 0.5rem\">CARDINAL</span>\n",
       "</mark>\n",
       " cars in \n",
       "<mark class=\"entity\" style=\"background: #feca74; padding: 0.45em 0.6em; margin: 0 0.25em; line-height: 1; border-radius: 0.35em;\">\n",
       "    India\n",
       "    <span style=\"font-size: 0.8em; font-weight: bold; line-height: 1; border-radius: 0.35em; vertical-align: middle; margin-left: 0.5rem\">GPE</span>\n",
       "</mark>\n",
       "</div></span>"
      ],
      "text/plain": [
       "<IPython.core.display.HTML object>"
      ]
     },
     "metadata": {},
     "output_type": "display_data"
    }
   ],
   "source": [
    "doc8 = lang('last year MGHector sold 15000 cars in India')\n",
    "displacy.render(doc8, style = 'ent')"
   ]
  },
  {
   "cell_type": "markdown",
   "id": "824869c5",
   "metadata": {},
   "source": [
    "## Stemming "
   ]
  },
  {
   "cell_type": "code",
   "execution_count": 32,
   "id": "f725efb8",
   "metadata": {},
   "outputs": [],
   "source": [
    "from nltk.stem.snowball import SnowballStemmer"
   ]
  },
  {
   "cell_type": "code",
   "execution_count": 33,
   "id": "ea645b6f",
   "metadata": {},
   "outputs": [],
   "source": [
    "stemmer = SnowballStemmer(language='english')"
   ]
  },
  {
   "cell_type": "code",
   "execution_count": 34,
   "id": "76057dd6",
   "metadata": {},
   "outputs": [],
   "source": [
    "word_list = [ 'swim' ,'swimmer' , 'swimming' , 'matches',\n",
    "             'mens' , 'laughing'  ,'cars' , 'loving' , \n",
    "             'humans' ,'indians' ]\n"
   ]
  },
  {
   "cell_type": "code",
   "execution_count": 35,
   "id": "e8bcd050",
   "metadata": {},
   "outputs": [
    {
     "name": "stdout",
     "output_type": "stream",
     "text": [
      "swim    its stemming is  --->   \t swim\n",
      "swimmer    its stemming is  --->   \t swimmer\n",
      "swimming    its stemming is  --->   \t swim\n",
      "matches    its stemming is  --->   \t match\n",
      "mens    its stemming is  --->   \t men\n",
      "laughing    its stemming is  --->   \t laugh\n",
      "cars    its stemming is  --->   \t car\n",
      "loving    its stemming is  --->   \t love\n",
      "humans    its stemming is  --->   \t human\n",
      "indians    its stemming is  --->   \t indian\n"
     ]
    }
   ],
   "source": [
    "for word in word_list:\n",
    "        print(word  ,   \"   its stemming is  --->  \" ,  '\\t' , stemmer.stem(word))\n"
   ]
  },
  {
   "cell_type": "code",
   "execution_count": 36,
   "id": "06ee0e59",
   "metadata": {},
   "outputs": [],
   "source": [
    "# stop words using spacy "
   ]
  },
  {
   "cell_type": "code",
   "execution_count": 37,
   "id": "50de6f3e",
   "metadata": {
    "scrolled": true
   },
   "outputs": [
    {
     "name": "stdout",
     "output_type": "stream",
     "text": [
      "{'show', 'noone', 'few', 'than', 'by', 'latterly', 'seems', 'over', 'nine', 'one', 'made', 'under', 'well', 'of', 'what', 'except', 'because', 'own', 'serious', 'beforehand', 'that', 'once', 'using', 'toward', 'very', 'must', 'at', 'more', 'thereby', 'due', 'make', 'down', 'how', 'hereby', 'empty', 'only', 'have', 'behind', 'regarding', 'between', 'myself', 'towards', 'amongst', 'yours', 'see', 'whereas', 'were', 'three', 'to', 'afterwards', 'was', 'full', 'me', 'whole', 'most', 'never', 'almost', 'her', 'about', 'out', 'where', 'n’t', 'until', 'again', 'say', 'whose', 'is', 'hers', 'does', 'top', 'besides', 'ten', 'so', 'indeed', 'hence', 'thus', 'he', 'move', 'this', 'in', 'being', 'their', 'latter', 'name', 'his', 'thereafter', 'two', 'whereby', 'yet', 'together', 'why', 'even', 'such', 'next', 'fifteen', '’m', 'we', 'seemed', 'therefore', 'yourself', 'nowhere', 'each', 'anywhere', 'my', \"'d\", '‘d', \"'s\", 'or', 'forty', 'give', 'your', 'though', 'which', 'n‘t', 'part', 'nobody', 'they', 'really', 'whereupon', \"n't\", 'been', 'up', 'itself', 'via', 'ourselves', 'she', 'moreover', 'thereupon', 'there', 'us', 'along', 'who', 'wherein', 'since', 'rather', 'himself', 'enough', 'used', 'former', 'thence', 'per', 'both', 'none', 'upon', 'now', 'i', 'becoming', 'before', 'first', 'anyone', 'five', 'on', '‘ll', 'call', 'other', 'nor', 'do', 'anyway', 'sixty', 'as', 'and', 'least', 'without', 'into', 'through', 'alone', 'beyond', 'either', 'whether', 'its', 'anything', 'below', 'these', 'everywhere', '‘m', 'during', 'among', 'fifty', 'everyone', \"'m\", 'after', 'above', 'seem', 'just', 'meanwhile', 'amount', 'else', 'an', '‘ve', 'will', 'various', 'it', 'sometime', 'against', 'from', 'side', 'front', 'ours', 'for', 'twelve', 'with', 'herein', 'something', 'whenever', 'then', 'themselves', 'wherever', 'last', 'might', \"'re\", 'throughout', 'neither', 'could', 'sometimes', 'six', 'ca', 'put', 'them', 'less', 'you', '’re', 'often', 'would', 'did', 'also', 'seeming', 'becomes', 'across', 'others', 'those', 'no', 'doing', '’s', 'should', 'same', 'whence', 'any', 'herself', 'anyhow', 'elsewhere', 'around', 'although', 'somehow', 'off', 'someone', 'get', 'nevertheless', '‘re', 'can', 'always', 'but', 'back', 'therein', 'done', 'however', 'onto', '‘s', 'had', 'several', 'eight', '’ll', 'all', 'too', 'whom', '’ve', 'take', 'mostly', 're', 'yourselves', 'the', 'hereafter', 'am', 'keep', 'thru', 'within', 'are', 'much', 'four', 'another', 'become', 'whereafter', 'namely', '’d', 'became', 'a', 'quite', 'hundred', 'if', 'some', 'mine', 'beside', 'somewhere', 'unless', 'whoever', 'please', 'eleven', 'perhaps', 'our', 'already', \"'ve\", 'has', 'twenty', 'third', 'go', 'ever', 'may', 'every', \"'ll\", 'when', 'everything', 'otherwise', 'further', 'whither', 'be', 'while', 'formerly', 'still', 'hereupon', 'him', 'nothing', 'cannot', 'many', 'not', 'here', 'whatever', 'bottom'}\n"
     ]
    }
   ],
   "source": [
    "print(lang.Defaults.stop_words)  # use spacy for stopwords"
   ]
  },
  {
   "cell_type": "code",
   "execution_count": 38,
   "id": "d1d06eb0",
   "metadata": {},
   "outputs": [
    {
     "data": {
      "text/plain": [
       "326"
      ]
     },
     "execution_count": 38,
     "metadata": {},
     "output_type": "execute_result"
    }
   ],
   "source": [
    "len(lang.Defaults.stop_words)"
   ]
  },
  {
   "cell_type": "code",
   "execution_count": null,
   "id": "fe40a37a",
   "metadata": {},
   "outputs": [],
   "source": []
  }
 ],
 "metadata": {
  "kernelspec": {
   "display_name": "Python 3 (ipykernel)",
   "language": "python",
   "name": "python3"
  },
  "language_info": {
   "codemirror_mode": {
    "name": "ipython",
    "version": 3
   },
   "file_extension": ".py",
   "mimetype": "text/x-python",
   "name": "python",
   "nbconvert_exporter": "python",
   "pygments_lexer": "ipython3",
   "version": "3.9.11"
  }
 },
 "nbformat": 4,
 "nbformat_minor": 5
}
