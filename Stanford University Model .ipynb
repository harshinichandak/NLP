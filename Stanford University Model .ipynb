{
 "cells": [
  {
   "cell_type": "code",
   "execution_count": 1,
   "id": "2f692103",
   "metadata": {},
   "outputs": [],
   "source": [
    "import pandas as ps\n",
    "import numpy as np\n",
    "import tensorflow as tf"
   ]
  },
  {
   "cell_type": "code",
   "execution_count": 2,
   "id": "edec039f",
   "metadata": {},
   "outputs": [
    {
     "name": "stdout",
     "output_type": "stream",
     "text": [
      "Indexing word vectors.\n",
      "Found 400000 word vectors,\n"
     ]
    }
   ],
   "source": [
    "print('Indexing word vectors.')\n",
    "embeddings_index = {}\n",
    "f = open(r\"D:\\Datasets\\glove.6B.100d.txt\",  encoding = 'utf8')\n",
    "\n",
    "for line in f:\n",
    "    values =  line.split()\n",
    "    word   =  values[0]\n",
    "    coefs = np.asarray(values[1:] , dtype= 'float32')\n",
    "    embeddings_index[word] = coefs\n",
    "f.close()\n",
    "\n",
    "print('Found %s word vectors,' %len(embeddings_index))\n"
   ]
  },
  {
   "cell_type": "code",
   "execution_count": 3,
   "id": "d40a8cda",
   "metadata": {},
   "outputs": [
    {
     "name": "stdout",
     "output_type": "stream",
     "text": [
      "400000\n"
     ]
    }
   ],
   "source": [
    "u = embeddings_index['india']\n",
    "\n",
    "norm_u  = np.linalg.norm(u)   ## normanlizing the vector ( take the square root of the sum of square)\n",
    "similarity = []\n",
    "\n",
    "for word in embeddings_index.keys():   ## it searches in all the words in the corpus and calculates sosine similiraiy\n",
    "    v = embeddings_index[word]\n",
    "    cosine = np.dot(u , v) /norm_u /np.linalg.norm(v)  ## calculating the cosine similarity\n",
    "    similarity.append((word ,cosine))\n",
    "    \n",
    "    \n",
    "print(len(similarity))    \n",
    "\n",
    "#  for cosine similarity refer this link https://en.wikipedia.org/wiki/Cosine_similarity\n",
    "\n",
    "#  we take cosine similarity and not any another similarity because if 2 words are similar they would be parralle \n",
    "#   to each other and so the angle between them would be zero  and cos0 is 1 and we will have the highest score \n",
    "\n",
    "# if 2 words are oppostie to each other they would be perpendicular( 90 degree), cos90 will be zero\n"
   ]
  },
  {
   "cell_type": "code",
   "execution_count": 4,
   "id": "b4f41222",
   "metadata": {},
   "outputs": [
    {
     "data": {
      "text/plain": [
       "[('india', 0.99999994),\n",
       " ('pakistan', 0.83703244),\n",
       " ('indian', 0.78020304),\n",
       " ('delhi', 0.7712194),\n",
       " ('bangladesh', 0.766164),\n",
       " ('lanka', 0.7639288),\n",
       " ('sri', 0.7506584),\n",
       " ('australia', 0.7042095),\n",
       " ('malaysia', 0.67963016),\n",
       " ('nepal', 0.67619437),\n",
       " ('thailand', 0.66716325),\n",
       " ('indonesia', 0.66539514),\n",
       " ('kashmir', 0.6589754),\n",
       " ('zealand', 0.65660024),\n",
       " ('africa', 0.6426927),\n",
       " ('punjab', 0.622649),\n",
       " ('pakistani', 0.6181282),\n",
       " ('zimbabwe', 0.6133801),\n",
       " ('pradesh', 0.60605603),\n",
       " ('south', 0.60337204),\n",
       " ('japan', 0.6033388),\n",
       " ('bengal', 0.6002671),\n",
       " ('china', 0.5997108),\n",
       " ('asia', 0.5973966),\n",
       " ('country', 0.59669113),\n",
       " ('gujarat', 0.59592235),\n",
       " ('countries', 0.59346896),\n",
       " ('singh', 0.5926705),\n",
       " ('britain', 0.590373),\n",
       " ('cricket', 0.5896086),\n",
       " ('mumbai', 0.58934844),\n",
       " ('rajasthan', 0.58708966),\n",
       " ('philippines', 0.5868394),\n",
       " ('western', 0.584602),\n",
       " ('maharashtra', 0.58134544),\n",
       " ('lankan', 0.5773668),\n",
       " ('singapore', 0.57581043),\n",
       " ('subcontinent', 0.5737695),\n",
       " ('bhutan', 0.5718593),\n",
       " ('united', 0.56963485),\n",
       " ('states', 0.5694362),\n",
       " ('uttar', 0.5676397),\n",
       " ('test', 0.5669411),\n",
       " ('nation', 0.5652693),\n",
       " ('karnataka', 0.5643766),\n",
       " ('myanmar', 0.5594065),\n",
       " ('bangalore', 0.5583116),\n",
       " ('korea', 0.55692255),\n",
       " ('islamabad', 0.55689406),\n",
       " ('kingdom', 0.55544007),\n",
       " ('iran', 0.5539374),\n",
       " ('russia', 0.55294937),\n",
       " ('ireland', 0.5529198),\n",
       " ('bombay', 0.55161834),\n",
       " ('nigeria', 0.55137205),\n",
       " ('nations', 0.54971164),\n",
       " ('lahore', 0.5456508),\n",
       " ('england', 0.5446456),\n",
       " ('indies', 0.5424648),\n",
       " ('europe', 0.54238445),\n",
       " ('region', 0.54073024),\n",
       " ('egypt', 0.53952914),\n",
       " ('hindu', 0.5392341),\n",
       " ('canada', 0.53906065),\n",
       " ('northern', 0.5388116),\n",
       " ('kenya', 0.53826475),\n",
       " ('part', 0.53795314),\n",
       " ('government', 0.5369096),\n",
       " ('kerala', 0.53650415),\n",
       " ('nadu', 0.5347682),\n",
       " ('west', 0.5334707),\n",
       " ('maldives', 0.53338164),\n",
       " ('vajpayee', 0.5321077),\n",
       " ('mongolia', 0.530233),\n",
       " ('in', 0.52928716),\n",
       " ('burma', 0.52819693),\n",
       " ('assam', 0.52680576),\n",
       " ('namely', 0.5251424),\n",
       " ('brazil', 0.5248459),\n",
       " ('world', 0.5237353),\n",
       " ('today', 0.5231843),\n",
       " ('here', 0.52269924),\n",
       " ('peru', 0.521729),\n",
       " ('tamil', 0.52151597),\n",
       " ('cambodia', 0.52122587),\n",
       " ('republic', 0.521149),\n",
       " ('bihar', 0.5207516),\n",
       " ('east', 0.52055377),\n",
       " ('andhra', 0.52029926),\n",
       " ('limited', 0.51969963),\n",
       " ('kazakhstan', 0.5188263),\n",
       " ('asian', 0.51866317),\n",
       " ('afghanistan', 0.5180179),\n",
       " ('hyderabad', 0.51515585),\n",
       " ('greece', 0.514604),\n",
       " ('calcutta', 0.51318127),\n",
       " ('reliance', 0.5121849),\n",
       " ('musharraf', 0.510926),\n",
       " ('tendulkar', 0.5084432),\n",
       " ('despite', 0.50841457)]"
      ]
     },
     "execution_count": 4,
     "metadata": {},
     "output_type": "execute_result"
    }
   ],
   "source": [
    "sorted(similarity ,reverse= True , key = lambda y: y[1] )[:100]"
   ]
  },
  {
   "cell_type": "code",
   "execution_count": null,
   "id": "8adfcb09",
   "metadata": {},
   "outputs": [],
   "source": []
  }
 ],
 "metadata": {
  "kernelspec": {
   "display_name": "Python 3 (ipykernel)",
   "language": "python",
   "name": "python3"
  },
  "language_info": {
   "codemirror_mode": {
    "name": "ipython",
    "version": 3
   },
   "file_extension": ".py",
   "mimetype": "text/x-python",
   "name": "python",
   "nbconvert_exporter": "python",
   "pygments_lexer": "ipython3",
   "version": "3.9.11"
  }
 },
 "nbformat": 4,
 "nbformat_minor": 5
}
